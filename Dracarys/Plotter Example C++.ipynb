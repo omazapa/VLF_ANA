{
 "cells": [
  {
   "cell_type": "markdown",
   "metadata": {},
   "source": [
    "<img src=\"https://sites.google.com/a/congresodivulgacion.org/i-congreso-nacional-de-divulgacion-cientifica/_/rsrc/1305953844742/config/fcen.png\" height=\"20%\" width=\"20%\" style=\"float: left;\"/> \n",
    "    <img src=\"http://cmscreate.web.cern.ch/sites/cmscreate.web.cern.ch/files/pictures/CMSlogo_color_label_1024_May2014.png\" height=\"20%\" width=\"20%\"/>"
   ]
  },
  {
   "cell_type": "markdown",
   "metadata": {},
   "source": [
    "### Include\n",
    "Header for the plotter"
   ]
  },
  {
   "cell_type": "code",
   "execution_count": 1,
   "metadata": {},
   "outputs": [],
   "source": [
    "#include<Plotter.h>"
   ]
  },
  {
   "cell_type": "markdown",
   "metadata": {},
   "source": [
    "### Creating a object\n",
    "* first argument is the path to the tree and the name of the tree\n",
    "* second argument is the lists of branches\n",
    "* ￼other arguments are number of bins, xmin and xmax"
   ]
  },
  {
   "cell_type": "code",
   "execution_count": 2,
   "metadata": {},
   "outputs": [],
   "source": [
    "Harry::Plotter p(\"demo/VLFTree\",{\"AnaMuons.Pt()\",\"AnaJets.Pt()\"},100,0,70);"
   ]
  },
  {
   "cell_type": "markdown",
   "metadata": {},
   "source": [
    "### Adding files\n",
    "Method to add directory with the ROOT files\n",
    "* first argumet are directory path\n",
    "* second argument are category (Signal, Bkg0, Bkg1, etc..)\n",
    "* third argument are the weights for the trees in the chain."
   ]
  },
  {
   "cell_type": "code",
   "execution_count": 3,
   "metadata": {},
   "outputs": [],
   "source": [
    "p.AddDirectory(\"data/Signal\",\"Signal\",1);\n",
    "p.AddDirectory(\"data/Bkg0\",\"Bkg0\",1);\n",
    "p.AddDirectory(\"data/Bkg1\",\"Bkg1\",1);"
   ]
  },
  {
   "cell_type": "markdown",
   "metadata": {},
   "source": [
    "### Cuts\n",
    "method to cut values in the chains while histograms are created"
   ]
  },
  {
   "cell_type": "code",
   "execution_count": 4,
   "metadata": {},
   "outputs": [],
   "source": [
    "p.SetCut(\"AnaMuons.Pt()>2\");"
   ]
  },
  {
   "cell_type": "markdown",
   "metadata": {},
   "source": [
    "### Save plots\n",
    "Method to save plots in PDF files.\n",
    "* the argument is the directory to save the plots, by default plots"
   ]
  },
  {
   "cell_type": "code",
   "execution_count": 5,
   "metadata": {},
   "outputs": [
    {
     "name": "stderr",
     "output_type": "stream",
     "text": [
      "Info in <TCanvas::Print>: pdf file plots/AnaMuons.Pt.pdf has been created\n",
      "Info in <TCanvas::Print>: pdf file plots/AnaJets.Pt.pdf has been created\n"
     ]
    }
   ],
   "source": [
    "p.SavePdfs(\"plots\");"
   ]
  },
  {
   "cell_type": "markdown",
   "metadata": {},
   "source": [
    "### Plots in HStack\n",
    "Method to get a map of histograms in THStack objects, the key of the map is the branch name."
   ]
  },
  {
   "cell_type": "code",
   "execution_count": 6,
   "metadata": {},
   "outputs": [],
   "source": [
    "auto hplots = p.GetPlots();\n",
    "TCanvas c;"
   ]
  },
  {
   "cell_type": "code",
   "execution_count": 7,
   "metadata": {},
   "outputs": [
    {
     "data": {
      "image/png": "[encoded data removed]",
      "text/plain": [
       "<IPython.core.display.Image object>"
      ]
     },
     "metadata": {},
     "output_type": "display_data"
    }
   ],
   "source": [
    "hplots[\"AnaMuons.Pt()\"].first->Draw(); //HStack object\n",
    "hplots[\"AnaMuons.Pt()\"].second->Draw(); //Legend object\n",
    "c.Draw();"
   ]
  },
  {
   "cell_type": "markdown",
   "metadata": {},
   "source": [
    "### Getting and Manipulating  histograms\n",
    "Method to get the lists of histograms for a given branch.\n",
    "You can get and manipulate histogram."
   ]
  },
  {
   "cell_type": "code",
   "execution_count": 8,
   "metadata": {},
   "outputs": [],
   "source": [
    "auto hists=p.GetHists();"
   ]
  },
  {
   "cell_type": "code",
   "execution_count": 9,
   "metadata": {},
   "outputs": [
    {
     "data": {
      "image/png": "[encoded data removed]",
      "text/plain": [
       "<IPython.core.display.Image object>"
      ]
     },
     "metadata": {},
     "output_type": "display_data"
    }
   ],
   "source": [
    "auto h1=hists[\"AnaJets.Pt()\"].first.at(0);\n",
    "h1->Sumw2();\n",
    "h1->Draw();\n",
    "c.Draw();"
   ]
  },
  {
   "cell_type": "markdown",
   "metadata": {},
   "source": [
    "### Save ROOT File\n",
    "Method to save all plot information in a ROOT file\n",
    "* argument is the root file name for the output"
   ]
  },
  {
   "cell_type": "code",
   "execution_count": 10,
   "metadata": {},
   "outputs": [],
   "source": [
    "p.SaveFile(\"plotter.root\");"
   ]
  }
 ],
 "metadata": {
  "kernelspec": {
   "display_name": "ROOT C++",
   "language": "c++",
   "name": "root"
  },
  "language_info": {
   "codemirror_mode": "text/x-c++src",
   "file_extension": ".C",
   "mimetype": " text/x-c++src",
   "name": "c++"
  }
 },
 "nbformat": 4,
 "nbformat_minor": 2
}
